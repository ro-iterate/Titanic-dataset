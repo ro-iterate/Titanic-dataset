{
 "cells": [
  {
   "cell_type": "markdown",
   "id": "2482bb7c",
   "metadata": {},
   "source": [
    "Readme "
   ]
  },
  {
   "cell_type": "code",
   "execution_count": null,
   "id": "6985d926",
   "metadata": {},
   "outputs": [],
   "source": [
    "#Import relevant libraries ----- copied from other ------ consider which ones to keep \n",
    "\n",
    "###watch week 5 Do \n",
    "\n",
    "import pandas as pd\n",
    "import numpy as np\n",
    "# for Box-Cox Transformation\n",
    "from scipy import stats\n",
    "\n",
    "# for min_max scaling\n",
    "from mlxtend.preprocessing import minmax_scaling\n",
    "\n",
    "# plotting modules\n",
    "import seaborn as sns\n",
    "import missingno\n",
    "\n",
    "import matplotlib.pyplot as plt \n",
    "\n",
    "#string to numeric \n",
    "from sklearn.preprocessing import LabelEncoder  "
   ]
  },
  {
   "cell_type": "code",
   "execution_count": null,
   "id": "0fa31652",
   "metadata": {},
   "outputs": [],
   "source": [
    "#Read file and show overview of data \n",
    "titanic_df = pd.read_csv(\"Titanic.csv\") \n",
    "titanic_df.head() "
   ]
  },
  {
   "cell_type": "markdown",
   "id": "5e2d3c49",
   "metadata": {},
   "source": [
    "#### Explanation of the column names \n",
    "\n",
    "An explanation of the column names is available on kaggle (https://www.kaggle.com/c/titanic/data):  \n",
    "\n",
    "- Each passenger gets a PassengerId. \n",
    "- Survived describes if they survived the distater or not (0 = No, 1 = Yes).  \n",
    "- Pclass refers to the ticket class each passenger purchased/stayed in and is divided into 1st (1), 2nd (2) and 3rd (3) class. This can be considered representative of the socio-economic status of the passenger. \n",
    "- The name of each passenger is recorded. \n",
    "- Sex is either male or female.  \n",
    "- Age is recorded in years. \n",
    "- SibSp refers to the number of siblings or if the passenger had a spouse on board of the titanic. \n",
    "- Parch is short for parent/child i.e. the number of parents or children the passenger had on board (some children only travelled with a nanny leading to some children having a value of 0 for Parch). \n",
    "- Ticket contains the ticket number the passenger purchased. \n",
    "- Fare is how much the passenger paid. \n",
    "- Cabin is the cabin number the passenger stayed in. \n",
    "- Embarked is the initial of the harbour the passenger embarked at (C=Cherbourg, Q=Queenstown, S=Southampton).  "
   ]
  },
  {
   "cell_type": "code",
   "execution_count": null,
   "id": "d46f02d7",
   "metadata": {},
   "outputs": [],
   "source": [
    "#Looking at the data \n",
    "titanic_df.shape\n",
    "titanic_df.info() "
   ]
  },
  {
   "cell_type": "code",
   "execution_count": null,
   "id": "3dbe0d45",
   "metadata": {},
   "outputs": [],
   "source": [
    "#Cleaning the data: check for missing entries  \n",
    "missing_entries = titanic_df.isnull().sum() \n",
    "missing_entries "
   ]
  },
  {
   "cell_type": "code",
   "execution_count": null,
   "id": "7067ec9c",
   "metadata": {},
   "outputs": [],
   "source": [
    "#Graph of missing values\n",
    "missingno.matrix(titanic_df)"
   ]
  },
  {
   "cell_type": "markdown",
   "id": "cd5a749f",
   "metadata": {},
   "source": [
    "At 687 out of 891, a signifcant amount of entries for Cabin are missing. There are also 177 missing entries for Age, while for Embarked only 2 are missing. \n",
    "\n",
    "As so many entries for Cabin are missing and the layout of the Titanic in relation to each cabin is not given (as the position of the cabin might have affected how easy it was to get to the lifeboats), the column will be dropped entirely. \n",
    "\n",
    "Many entries for Age are missing, however being older or younger might affect your chances of survival so it is an important column to keep. Removing these entries would also affect the other columns. The missing entries will be filled with the mean of the Age column as age in a continuous variable.   \n",
    "\n",
    "For Embarked only two entries are missing. These can be filled in using the mode of the column as it is a categorical variable.\n",
    "\n",
    "Additionally, it is important to consider the other columns. It is unlikely that the PassengerId, Ticket or Name had a huge impact on survival in general so they too will be dropped. "
   ]
  },
  {
   "cell_type": "code",
   "execution_count": null,
   "id": "5770e185",
   "metadata": {},
   "outputs": [],
   "source": [
    "#Missing entries - dropping the Cabin, PassengerId, Name and Ticket column \n",
    "titanic_df.drop(['Cabin'], inplace=True, axis=1) \n",
    "titanic_df.drop(['PassengerId'], inplace=True, axis=1) \n",
    "titanic_df.drop(['Name'], inplace=True, axis=1) \n",
    "titanic_df.drop(['Ticket'], inplace=True, axis=1) \n",
    "\n",
    "titanic_df.head() "
   ]
  },
  {
   "cell_type": "code",
   "execution_count": null,
   "id": "41f8198a",
   "metadata": {},
   "outputs": [],
   "source": [
    "#Missing entries: Age \n",
    "mean_age = titanic_df['Age'].mean() \n",
    "titanic_df.loc[titanic_df['Age'].isnull(), 'Age'] = mean_age "
   ]
  },
  {
   "cell_type": "code",
   "execution_count": null,
   "id": "c672e6ee",
   "metadata": {},
   "outputs": [],
   "source": [
    "#Missing entries: Embarked column \n",
    "titanic_df['Embarked'].unique()"
   ]
  },
  {
   "cell_type": "code",
   "execution_count": null,
   "id": "5844abfe",
   "metadata": {},
   "outputs": [],
   "source": [
    "#Missing entries: filling Embarked column \n",
    "titanic_df['Embarked'].mode() \n",
    "titanic_df.loc[titanic_df['Embarked'].isnull(), 'Embarked'] ='S'\n",
    "\n",
    "titanic_df['Embarked'].unique()"
   ]
  },
  {
   "cell_type": "code",
   "execution_count": null,
   "id": "eb6be29c",
   "metadata": {},
   "outputs": [],
   "source": [
    "#Overview of all columns \n",
    "titanic_df.hist()\n",
    "plt.tight_layout()"
   ]
  },
  {
   "cell_type": "code",
   "execution_count": 2,
   "id": "5213353b",
   "metadata": {},
   "outputs": [
    {
     "ename": "NameError",
     "evalue": "name 'sns' is not defined",
     "output_type": "error",
     "traceback": [
      "\u001b[1;31m---------------------------------------------------------------------------\u001b[0m",
      "\u001b[1;31mNameError\u001b[0m                                 Traceback (most recent call last)",
      "Cell \u001b[1;32mIn[2], line 2\u001b[0m\n\u001b[0;32m      1\u001b[0m \u001b[38;5;66;03m#m pairplot\u001b[39;00m\n\u001b[1;32m----> 2\u001b[0m sns\u001b[38;5;241m.\u001b[39mpairplot(country_df)\n",
      "\u001b[1;31mNameError\u001b[0m: name 'sns' is not defined"
     ]
    }
   ],
   "source": [
    "#m pairplot  "
   ]
  },
  {
   "cell_type": "markdown",
   "id": "a8619c6c",
   "metadata": {},
   "source": [
    "### Most important factor in determining survival on Titanic? "
   ]
  },
  {
   "cell_type": "code",
   "execution_count": null,
   "id": "cd01e184",
   "metadata": {},
   "outputs": [],
   "source": [
    "#Looking at how many survived the disaster \n",
    "sns.countplot(x='Survived', data=titanic_df)"
   ]
  },
  {
   "cell_type": "markdown",
   "id": "4eb98136",
   "metadata": {},
   "source": [
    "### maybe talk more \n",
    "More people died during the distater than survived it.  "
   ]
  },
  {
   "cell_type": "code",
   "execution_count": null,
   "id": "dd24527c",
   "metadata": {},
   "outputs": [],
   "source": [
    "#Looking at how each category relates to survival on its own \n",
    "# Pclass vs Survived \n",
    "\n",
    "sns.histplot(data=titanic_df, x='Pclass', hue = 'Survived', multiple='stack')"
   ]
  },
  {
   "cell_type": "markdown",
   "id": "a4a02f50",
   "metadata": {},
   "source": [
    "The majority of passengers on the Titanic were 3rd class. Most did not survive the sinking of the ship. In 2nd class roughly half survived. In 1st class more than half survived the distater. Being a 3rd class passenger drastically lowered you chances at survival. "
   ]
  },
  {
   "cell_type": "code",
   "execution_count": null,
   "id": "d575f361",
   "metadata": {},
   "outputs": [],
   "source": [
    "# Sex vs Survived \n",
    "sns.histplot(data=titanic_df, x='Sex', hue = 'Survived', multiple='stack')"
   ]
  },
  {
   "cell_type": "markdown",
   "id": "afe840f2",
   "metadata": {},
   "source": [
    "Even though there were only about half as many female passenger as there were male passengers, they had roughly double the chance at surviving the sinking. "
   ]
  },
  {
   "cell_type": "code",
   "execution_count": null,
   "id": "157ab306",
   "metadata": {},
   "outputs": [],
   "source": [
    "# Age vs Survived \n",
    "sns.histplot(data=titanic_df, x='Age', hue = 'Survived', multiple='stack')"
   ]
  },
  {
   "cell_type": "code",
   "execution_count": null,
   "id": "bb784ad1",
   "metadata": {},
   "outputs": [],
   "source": [
    "sns.violinplot(data = titanic_df, x = 'Age', y = 'Survived')\n",
    "#or sns.violinplot(data = titanic_df, x = 'Pclass', y = 'Age', hue = 'Survived')"
   ]
  },
  {
   "cell_type": "markdown",
   "id": "8d31baeb",
   "metadata": {},
   "source": [
    "At most ages, the chances at survival seem to be somewhat less than 50%. Two stand outs are the survival chances of anyone below 10 years of age and around 30 years of age. More children survived than died. On the other side, if you were around 30 years of age you had a much higher chance of dying. However, one thing to consider here is that the Age column had a lot of missing entries and these were filled in using the mean value of the column, which might have affected the outcome of this graph.  "
   ]
  },
  {
   "cell_type": "code",
   "execution_count": null,
   "id": "4812c88d",
   "metadata": {},
   "outputs": [],
   "source": [
    "# SibSp vs Survived \n",
    "sns.histplot(data=titanic_df, x='SibSp', hue = 'Survived', multiple='stack')"
   ]
  },
  {
   "cell_type": "markdown",
   "id": "07d089f7",
   "metadata": {},
   "source": [
    "Most people that died did not have a spouse or siblings on board. Neither did most people that survived. Having one spouse or sibling meant you were roughly half as likely to survive as not. Only a small number had two or more. Having three or more meant you were more likely to die. This could potentially be because they would try to stay together as a family making it harder to get to the lifeboats. "
   ]
  },
  {
   "cell_type": "code",
   "execution_count": null,
   "id": "35b93ff8",
   "metadata": {},
   "outputs": [],
   "source": [
    "# Parch vs Survived \n",
    "sns.histplot(data=titanic_df, x='Parch', hue = 'Survived', multiple='stack')"
   ]
  },
  {
   "cell_type": "markdown",
   "id": "534ab557",
   "metadata": {},
   "source": [
    "Same as with the graph for SibSp vs Survival, the majority of people that died and survived did not have a parent or child with them on board. Having one or two on board brought the chance of survival to roughly half. Only a very small number had more than two. "
   ]
  },
  {
   "cell_type": "code",
   "execution_count": null,
   "id": "f5dae443",
   "metadata": {},
   "outputs": [],
   "source": [
    "# Fare vs Survived \n",
    "sns.histplot(data=titanic_df, x='Fare', hue = 'Survived', multiple='stack')"
   ]
  },
  {
   "cell_type": "markdown",
   "id": "fc7329c8",
   "metadata": {},
   "source": [
    "Most people that died had paid a lower fare. People that paid a higher fare were more likely to survive. "
   ]
  },
  {
   "cell_type": "code",
   "execution_count": null,
   "id": "ffb3249b",
   "metadata": {},
   "outputs": [],
   "source": [
    "# Embarked vs Survived \n",
    "sns.histplot(data=titanic_df, x='Embarked', hue = 'Survived', multiple='stack')"
   ]
  },
  {
   "cell_type": "markdown",
   "id": "7fef9713",
   "metadata": {},
   "source": [
    "The majority of passengers embarked in Southampton. Most people that survived and did not survive embarked in Southampton. Comparing these to Cherbourg and Queenstown, it shows that passengers embarking in Cherbourg had a roughly equal chance of survival, but it was less than half if a passenger embarked in Queenstown. "
   ]
  },
  {
   "cell_type": "code",
   "execution_count": null,
   "id": "4baef18b",
   "metadata": {},
   "outputs": [],
   "source": [
    "#Using a heatmap to look at the correlation between each variable \n",
    "\n",
    "#Convert string to numeric \n",
    "titanic_df['Sex'] = LabelEncoder().fit_transform(titanic_df['Sex']) \n",
    "titanic_df['Embarked'] = LabelEncoder().fit_transform(titanic_df['Embarked'])\n",
    "titanic_df.info()"
   ]
  },
  {
   "cell_type": "code",
   "execution_count": null,
   "id": "bf2abf90",
   "metadata": {},
   "outputs": [],
   "source": [
    "#Heatmap of data \n",
    "sns.heatmap(titanic_df.corr(), annot=True, cmap=sns.cubehelix_palette(start=2,as_cmap=True))"
   ]
  },
  {
   "cell_type": "markdown",
   "id": "d6143f43",
   "metadata": {},
   "source": [
    "From the heatmap it can be seen that the strongest indicator to surviving the disaster was Fare with a correlation of 0.26. Surprisingly, sex and class have a negative correlation despite both seeming to show that a female passenger or 1st class passenger was more likely to survive than a male or 3rd class passenger. "
   ]
  },
  {
   "cell_type": "code",
   "execution_count": null,
   "id": "066f352c",
   "metadata": {},
   "outputs": [],
   "source": [
    "sns.boxplot(data=titanic_df, x = 'Sex', y = 'Fare', hue = 'Survived')"
   ]
  },
  {
   "cell_type": "markdown",
   "id": "f918e0d2",
   "metadata": {},
   "source": [
    "This graph shows the impact fare had on the survival for both sexes. The heatmap surprisingly did not show a strong correlation for Age or Sex. This graph could somewhat show why this might be. For both sexes a low fare more likely meant dying in the disaster. However, more male passengers that paid a higher fare survived. This effect is even more defined in female passengers. The 75% percentile of not suviving female passengers is roughly equal with the 50% percentile of female suvivors, showing that more women who paid a higher fare were more likely to survive. "
   ]
  },
  {
   "cell_type": "code",
   "execution_count": null,
   "id": "23262fe4",
   "metadata": {},
   "outputs": [],
   "source": [
    "sns.boxplot(data=titanic_df, x = 'Pclass', y = 'Fare', hue = 'Survived')"
   ]
  },
  {
   "cell_type": "markdown",
   "id": "d484b069",
   "metadata": {},
   "source": [
    "This graph comparing the class to fare is another indicator that fare had a big impact. There is not much variation in 2nd and 3rd class, but more 1st class passengers that paid a higher fare survived than 1st class passengers that paid a lower fare. "
   ]
  },
  {
   "cell_type": "markdown",
   "id": "27129e66",
   "metadata": {},
   "source": [
    "#### In the movie, the upper-class passengers were given preference on lifeboats. Does this show in the data? "
   ]
  },
  {
   "cell_type": "markdown",
   "id": "2cb10a4f",
   "metadata": {},
   "source": [
    "Upperclass passengers would have stayed in 1st class and paid a higher fare. Comparing these to survival gives the following graphs:  "
   ]
  },
  {
   "cell_type": "code",
   "execution_count": null,
   "id": "d4540e67",
   "metadata": {},
   "outputs": [],
   "source": [
    "sns.histplot(data=titanic_df, x = 'Pclass', hue = 'Survived', multiple = 'stack')"
   ]
  },
  {
   "cell_type": "markdown",
   "id": "1558e512",
   "metadata": {},
   "source": [
    "Passengers from every class died, but staying in 3rd class severly lowered your chances of survival, while staying in 1st class raised your chances of survival. In 2nd class these were roughly equal. As passengers on lifeboats would most likely have survived the icy waters, it seems likely that 1st class passengers were given preferential treatment compared to the other two classes. "
   ]
  },
  {
   "cell_type": "code",
   "execution_count": null,
   "id": "0bbc7f0d",
   "metadata": {},
   "outputs": [],
   "source": [
    "sns.boxplot(data=titanic_df, x = 'Survived', y='Fare') "
   ]
  },
  {
   "cell_type": "markdown",
   "id": "66c670c7",
   "metadata": {},
   "source": [
    "In this graph the fare is compared to survival. The 50% quartile of 1 is on the same level as the 75% quartile of 0. The maximum of 0 is about the same as the 75% quartile of 1. That shows that more passengers that survived had also bought a more expensive ticket. This is a further indicator that upper-class passengers were given preferential treatment. "
   ]
  },
  {
   "cell_type": "markdown",
   "id": "af50042e",
   "metadata": {},
   "source": [
    "#### “Women and children first”. Was this the case? "
   ]
  },
  {
   "cell_type": "markdown",
   "id": "da2b5e8e",
   "metadata": {},
   "source": [
    "To answer the question the previous graphs on Survival compared to Age, Sex and Parch should be considered. Additionally to the following graph:  "
   ]
  },
  {
   "cell_type": "code",
   "execution_count": null,
   "id": "452879a7",
   "metadata": {},
   "outputs": [],
   "source": [
    "sns.boxplot(data=titanic_df, x = 'Sex', y = 'Age', hue = 'Survived') "
   ]
  },
  {
   "cell_type": "markdown",
   "id": "3b3fb278",
   "metadata": {},
   "source": [
    "As the minimum value for surviving male passengers is lower than for male passenger that died (not taking into account outliers), it seems to indicate that age played a role in a male passenger's chances of survival and that boys were more likely to be saved compared to older male passengers. Interestingly, the 25% and 75% quartiles of female passengers that died is lower than for surviving female passengers. This suggests that older female passengers were more likely to be saved than a female passenger in her early 20s. \n",
    "\n",
    "As shown in the previous graph of 'Sex vs. Survived' more female passengers survived than male passengers. Additionally, in the 'Age vs. Survived' graph passengers below the age of 10 were more likely to survive than passengers of any other age group. Another indicator is the 'Parch vs Survived' graph. Having one child or parent raised the chances of survival, possibly because mothers with children were prioritised. Altogether, this does seem to indicate that a policy of 'Women and children first' was in place/followed. "
   ]
  },
  {
   "cell_type": "markdown",
   "id": "b2a2cfd9",
   "metadata": {},
   "source": [
    "#### Add one other observation that you have noted in the dataset. "
   ]
  },
  {
   "cell_type": "code",
   "execution_count": null,
   "id": "7a1f350f",
   "metadata": {},
   "outputs": [],
   "source": [
    "sns.boxplot(data=titanic_df, x = 'Pclass', y = 'Age', hue = 'Survived')"
   ]
  },
  {
   "cell_type": "markdown",
   "id": "771dd379",
   "metadata": {},
   "source": [
    "Finally, this graph shows the age distribution in each passenger class. The majority of passengers in 1st class (surviving and not) were older than in 2nd or 3rd class. As you age you are more likely to earn more and so older people could afford the higher fare for 1st class. \n",
    "\n",
    "Children were passengers in all classes, however it is interesting to note that the minimum age for anyone who died in 2nd class is just below 20. This shows that all 2nd class children survived, whereas they are among the dead in all other classes (albeit anyone under 10 years old as outlier in 3rd class). \n",
    "\n",
    "It also shows that the passengers that died in 1st and 2nd class were generally older than those that survived and that the 25% quartile of survivors in 3rd class is younger than those that died. This suggests that older passengers helped younger passengers survive. "
   ]
  }
 ],
 "metadata": {
  "kernelspec": {
   "display_name": "Python 3 (ipykernel)",
   "language": "python",
   "name": "python3"
  },
  "language_info": {
   "codemirror_mode": {
    "name": "ipython",
    "version": 3
   },
   "file_extension": ".py",
   "mimetype": "text/x-python",
   "name": "python",
   "nbconvert_exporter": "python",
   "pygments_lexer": "ipython3",
   "version": "3.11.5"
  }
 },
 "nbformat": 4,
 "nbformat_minor": 5
}
